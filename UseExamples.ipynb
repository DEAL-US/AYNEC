{
 "cells": [
  {
   "attachments": {},
   "cell_type": "markdown",
   "metadata": {},
   "source": [
    "# AYNEXT use examples\n",
    "\n",
    "## AYNEXT-DataGen\n",
    "\n",
    "First, install required dependencies:"
   ]
  },
  {
   "cell_type": "code",
   "execution_count": null,
   "metadata": {},
   "outputs": [],
   "source": [
    "import os\n",
    "print(os.popen('pip install -r requirements.txt').read())"
   ]
  },
  {
   "attachments": {},
   "cell_type": "markdown",
   "metadata": {},
   "source": [
    "Launch AYNEXT-DataGen to generate an evaluation dataset from the `WN11.txt` file, which contains a triple in each line. We want to use 20% of the dataset for testing, generating 2 negatives per positive by randomly replacing the source entity of the positive triples, removing relations with less than 10 instances, removing inverses with an overlapping threshold of 0.9. Run in command line:"
   ]
  },
  {
   "cell_type": "code",
   "execution_count": null,
   "metadata": {},
   "outputs": [],
   "source": [
    "import subprocess\n",
    "%cd DataGen\n",
    "\n",
    "command = ['python', 'DataGen.py', \n",
    "           '--inF', 'WN11.txt', \n",
    "           '--outF', 'WN11-dataset', \n",
    "           '--minNumRel', '10', \n",
    "           '--removeInv', \n",
    "           '--change_source_random','2']\n",
    "\n",
    "for line in subprocess.Popen(command, stdout=subprocess.PIPE, shell=True).communicate()[0].decode('utf-8').splitlines():\n",
    "    print(line)"
   ]
  },
  {
   "attachments": {},
   "cell_type": "markdown",
   "metadata": {},
   "source": [
    "Results can be found at `DataGen/WN11-dataset`."
   ]
  },
  {
   "attachments": {},
   "cell_type": "markdown",
   "metadata": {},
   "source": [
    "Now, let us suppose that we want to implement a negatives generation strategy that merely replaces the source of the triple with a fictional entity named \"foo\", and the target with a fictional entity named \"bar\". We would define the following class that extends the class `NegativesGenerator`:"
   ]
  },
  {
   "cell_type": "code",
   "execution_count": null,
   "metadata": {},
   "outputs": [],
   "source": [
    "from NegativesGenerators import NegativesGenerator\n",
    "\n",
    "class FooGenerator(NegativesGenerator):\n",
    "\tdef __init__(self) -> None:\n",
    "\t\tself.tc = \"FooBar\"\n",
    "\tdef initialize(self):\n",
    "\t\tpass\n",
    "\tdef generate_negatives(self, positive, number_negatives):\n",
    "\t\trel = positive[0]\n",
    "\t\tnegatives = [(rel, \"foo\", \"bar\", self.tc) for i in range(number_negatives)]\n",
    "\t\treturn negatives"
   ]
  },
  {
   "attachments": {},
   "cell_type": "markdown",
   "metadata": {},
   "source": [
    "Next, in order to execute AYNEXT programatically, `generate_datasets` function must be used and provided with every possible param or its default value (in this case, we are using the previously described parameter configuration):"
   ]
  },
  {
   "cell_type": "code",
   "execution_count": null,
   "metadata": {},
   "outputs": [],
   "source": [
    "from DataGen import generate_datasets\n",
    "negatives_generators = {}\n",
    "# Define negatives generators to use and number of negatives to generate per relation\n",
    "negatives_generators[FooGenerator()] = 2\n",
    "\n",
    "generate_datasets(\n",
    "    input_file='./WN11.txt', \n",
    "    input_format='simpleTriplesReader',\n",
    "    output_folder='./WN11-dataset', \n",
    "\tmin_num_rel= 10, \n",
    "    remove_inverses = True, \n",
    "    graph_fraction = 1.0,\n",
    "    generate_negatives_training = False,\n",
    "    reach_fraction = 1.0,\n",
    "    testing_fraction = 0.2,\n",
    "    validation_fraction = 0.0,\n",
    "    splitting_technique = 'random',\n",
    "    pvalue_threshold = 0.05,\n",
    "    export_gexf = False,\n",
    "    create_summary = False,\n",
    "    inverse_threshold = 0.9,\n",
    "    include_data_prop = True,\n",
    "    separate_types = True,\n",
    "    negatives_generators = negatives_generators)"
   ]
  },
  {
   "attachments": {},
   "cell_type": "markdown",
   "metadata": {},
   "source": [
    "Results can be found at `DataGen/WN11-dataset`."
   ]
  },
  {
   "attachments": {},
   "cell_type": "markdown",
   "metadata": {},
   "source": [
    "## AYNEXT-ResTest\n",
    "\n",
    "ResTest can only be executed by command line. Let us suppose that we want to evaluate the performance of three link prediction techniques AllYes, AllNo and AllRandom, whose results are stored in `mockup-results.txt`. ResTest input parameters defined at the begining of the file are already configured for. Let us just launch ResTest in a command line:"
   ]
  },
  {
   "cell_type": "code",
   "execution_count": null,
   "metadata": {},
   "outputs": [],
   "source": [
    "%cd ..\n",
    "command = ['python', 'ResTest/ResTest.py']\n",
    "\n",
    "for line in subprocess.Popen(command, stdout=subprocess.PIPE, shell=True).communicate()[0].decode('utf-8').splitlines():\n",
    "    print(line)"
   ]
  },
  {
   "attachments": {},
   "cell_type": "markdown",
   "metadata": {},
   "source": [
    "Results can be found at `ResTest/mockup-metrics.txt` and `ResTest/mockup-pvalues.txt`."
   ]
  }
 ],
 "metadata": {
  "kernelspec": {
   "display_name": "Python 3",
   "language": "python",
   "name": "python3"
  },
  "language_info": {
   "codemirror_mode": {
    "name": "ipython",
    "version": 3
   },
   "file_extension": ".py",
   "mimetype": "text/x-python",
   "name": "python",
   "nbconvert_exporter": "python",
   "pygments_lexer": "ipython3",
   "version": "3.9.13"
  },
  "orig_nbformat": 4
 },
 "nbformat": 4,
 "nbformat_minor": 2
}
